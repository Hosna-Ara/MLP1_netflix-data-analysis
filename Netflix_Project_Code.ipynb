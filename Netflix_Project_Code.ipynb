# -----------------------------------------
# Step 1: Import Required Libraries
# -----------------------------------------
import pandas as pd
import matplotlib.pyplot as plt
import seaborn as sns

# Setting default styles for visualizations
sns.set(style="whitegrid")
plt.rcParams['figure.figsize'] = (12, 6)

# -----------------------------------------
# Step 2: Load Dataset from Web
# -----------------------------------------
# Direct link from Kaggle or a reliable source
url = "https://raw.githubusercontent.com/hosna-tas/Netflix-Movies-and-TV-Shows-Project/main/data/netflix_titles.csv"
df = pd.read_csv(url)

# Preview the dataset
df.head()

# -----------------------------------------
# Step 3: Data Cleaning
# -----------------------------------------
# Check missing values
df.isnull().sum()

# Drop rows with null 'director' and 'country' (can be adjusted as needed)
df = df.dropna(subset=['director', 'country'])

# Fill missing values in other columns if necessary
df['rating'].fillna('Unknown', inplace=True)

# Drop duplicate entries
df.drop_duplicates(inplace=True)

# -----------------------------------------
# Step 4: Understanding the Rating Column
# -----------------------------------------
# Check unique rating values
df['rating'].value_counts()

# Create a new column for Age Group based on 'rating'
def map_rating_to_age_group(rating):
    if rating in ['TV-G', 'G', 'TV-Y', 'TV-Y7', 'TV-Y7-FV']:
        return 'Kids'
    elif rating in ['PG', 'TV-PG']:
        return 'Teens'
    elif rating in ['PG-13']:
        return 'Young Adults'
    elif rating in ['R', 'TV-MA', 'NC-17']:
        return 'Adults'
    else:
        return 'Unknown'

df['age_group'] = df['rating'].apply(map_rating_to_age_group)

# View first 10 entries after adding 'age_group'
df.head(10)

# -----------------------------------------
# Step 5: Most Frequent Age Group Globally
# -----------------------------------------
age_group_counts = df['age_group'].value_counts()

# Visualize the result
sns.barplot(x=age_group_counts.index, y=age_group_counts.values)
plt.title('Most Frequent Age Groups Watching Netflix')
plt.xlabel('Age Group')
plt.ylabel('Number of Shows/Movies')
plt.show()

# -----------------------------------------
# Step 6: Leading Age Group by Country
# -----------------------------------------
# Group by country and age_group
country_age_group_counts = df.groupby(['country', 'age_group']).size().reset_index(name='count')

# Find leading age group per country
leading_age_group = country_age_group_counts.loc[country_age_group_counts.groupby('country')['count'].idxmax()]

# Display result
leading_age_group.head(10)

# Optional: Visualize top 10 countries
top_10 = leading_age_group.sort_values(by='count', ascending=False).head(10)
sns.barplot(data=top_10, y='country', x='count', hue='age_group')
plt.title('Top Age Groups by Country')
plt.xlabel('Count')
plt.ylabel('Country')
plt.legend(title='Age Group')
plt.show()

# -----------------------------------------
# Step 7: Top 3 Most Preferred Directors in Argentina
# -----------------------------------------
# Filter data for Argentina
argentina_df = df[df['country'] == 'Argentina']

# Count occurrences of directors
top_directors = argentina_df['director'].value_counts().head(3).reset_index()
top_directors.columns = ['Director', 'Number of Shows']

# Display top 3
top_directors

# -----------------------------------------
# Final Output Preview
# -----------------------------------------
print("✅ Data analysis complete!")
print("📊 Total entries analyzed:", len(df))
print("🌍 Countries covered:", df['country'].nunique())
print("🎬 Total unique directors:", df['director'].nunique())
